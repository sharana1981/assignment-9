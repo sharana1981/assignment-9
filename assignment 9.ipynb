{
 "cells": [
  {
   "cell_type": "markdown",
   "id": "975c20f1",
   "metadata": {},
   "source": [
    "# assignment 9"
   ]
  },
  {
   "cell_type": "raw",
   "id": "9f843f56",
   "metadata": {},
   "source": [
    "1) relative path refer to the path which describe directory relative to entry path where you run python script.\n",
    "\n",
    "2)Absolute path refers to the path of a file or a directory from root of a directory. In other words Absolute path is complete path from starting of the actual file system from directory.\n",
    "\n",
    "3)The function os.getcwd() gets the current working directory and os.chdir() changes the current working directory\n",
    "\n",
    "4)\".\" is a current working directory\n",
    "  \"..\" is a parent directory\n",
    "5)The directory name is spam.txt and base name is c:\n",
    "6)The three modes of arguments that can be passed to the open function are:\n",
    "    .read\n",
    "    .write\n",
    "    .append\n",
    "7)If existing file is opened in write mode it allows to write in the file by erasing the old data in the file.\n",
    "\n",
    "8)read() function returns the string directly not line by line\n",
    "   but readlines() function returns the string line by line.\n",
    "   \n",
    "9)shelf value resembles a dictionary type data structure.\n",
    "    "
   ]
  }
 ],
 "metadata": {
  "kernelspec": {
   "display_name": "Python 3 (ipykernel)",
   "language": "python",
   "name": "python3"
  },
  "language_info": {
   "codemirror_mode": {
    "name": "ipython",
    "version": 3
   },
   "file_extension": ".py",
   "mimetype": "text/x-python",
   "name": "python",
   "nbconvert_exporter": "python",
   "pygments_lexer": "ipython3",
   "version": "3.9.12"
  }
 },
 "nbformat": 4,
 "nbformat_minor": 5
}
